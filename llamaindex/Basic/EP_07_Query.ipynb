{
 "cells": [
  {
   "cell_type": "markdown",
   "metadata": {},
   "source": [
    "## Query"
   ]
  },
  {
   "cell_type": "code",
   "execution_count": 27,
   "metadata": {},
   "outputs": [],
   "source": [
    "from llama_index.core import StorageContext,load_index_from_storage\n",
    "from llama_index.llms.openai_like import OpenAILike\n",
    "from llama_index.embeddings.huggingface import HuggingFaceEmbedding\n",
    "import nest_asyncio\n",
    "nest_asyncio.apply()\n",
    "\n",
    "embed_model = HuggingFaceEmbedding(model_name=\"intfloat/multilingual-e5-large\",device='cpu')\n",
    "custom_api = 'float16-ZrIyRfu4XLpUS5y4ZUOd80VLpSjdYUfsLBY3kSUDTMZB8ra0p1'\n",
    "custom_url = 'https://api.float16.cloud/v1/llamaindex/'\n",
    "llm = OpenAILike(api_base=custom_url,api_key=custom_api,max_tokens=100,model='SeaLLM-7b-v2',api_version='v1')\n",
    "\n",
    "load_index = load_index_from_storage(StorageContext.from_defaults(persist_dir='./localstore/'),embed_model=embed_model)"
   ]
  },
  {
   "cell_type": "code",
   "execution_count": 28,
   "metadata": {},
   "outputs": [
    {
     "name": "stdout",
     "output_type": "stream",
     "text": [
      "-------------RAG-------------\n",
      "[NodeWithScore(node=TextNode(id_='f6f1d2f7-b70f-4ce8-afd4-82594f15764e', embedding=None, metadata={'filename': 'finops.md', 'extension': '.md'}, excluded_embed_metadata_keys=[], excluded_llm_metadata_keys=[], relationships={<NodeRelationship.SOURCE: '1'>: RelatedNodeInfo(node_id='29c14040-3d75-4e8c-b397-7181757629b8', node_type=<ObjectType.DOCUMENT: '4'>, metadata={'filename': 'finops.md', 'extension': '.md'}, hash='d5fbef9aa2cb4c27540f17fbc495a4e8c0c3b06af253f70394eeeb3e34a07ba9'), <NodeRelationship.NEXT: '3'>: RelatedNodeInfo(node_id='0bbd28f9-ba8e-4887-bed1-8473640ade3c', node_type=<ObjectType.TEXT: '1'>, metadata={}, hash='c18455576ae9bbffa7d79e1009f948ab3675f4f62afec647200656774c91f0b0')}, text='II FinOps ?  \\nA FinOps (cloud Financial Operations)\\nFinOps Foundation เป็น Foundation ที่ได้รับการสนับสนุนจาก The Linux Foundation ในการช่วยสร้าง Foundation สำหรับการส่งเสริมและผลักดันการใช้งาน Cloud computing อย่างมีคุณค่า\\n\\nB History\\nFinOps Foundation ก่อตั้งขึ้นมาตอน 2019 เกิดขึ้นหลังจากการมีอยู่ของ Cloud computing ประมาณ 10 ปี (AWS establish in 2006) ซึ่งถือว่าเป็น Foundation ที่มีอายุน้อยมาก (เทียบกับปี 2023) ฉะนั้นแล้วในส่วนของ Framework และ Best practice มีการอัพเดทอย่างรวดเร็วและเพิ่มขึ้นอย่างต่อเนื่อง เนื่องจาก use case ส่วนที่ยังไม่ได้ค้นพบยังมีอยู่มหาศาล\\nIII Cloud in real life  \\nการใช้งาน Cloud นั้นเริ่มต้นนั้นจะดูเข้าใจง่าย แต่ความจริงแล้ววิธีคิดเงินของ Cloud นั้นมีความซับซ้อนและความเปลี่ยนแปลงสูง ซึ่งยังมีสิ่งที่ไม่เกี่ยวข้องกับวิธีคิดเงิน แต่เกี่ยวข้องกับความรับผิดชอบบางประการที่ถูกเปลี่ยนแปลงมาโดยไม่มีใครสังเกตุ\\nA Spending decision\\nความรับผิดชอบด้านการจัดซื้อถูกย้ายมาให้กับทีม Engineer โดยตั้งใจหรือไม่ตั้งใจ ก็เป็นไปได้ทั้งสองกรณี โดยปกติแล้วการตัดสินใจในรายจ่ายเราจะมอบให้กับทีม Financial หรือทีม Procurement แต่เมื่อเป็น Cloud environment เรียบร้อยแล้ว คนที่เข้าใจ Cloud มากที่สุดกลับเป็นทีม Engineer ที่ไม่มีหน้าที่ในการรับผิดชอบการใช้จ่ายของบริษัท หรือเมื่อ Spending decision ยังอยู่กับทีม Financial คนที่ต้อง Commit รายจ่ายของ Cloud computing ก็ยังคงเป็นทีม Engineer\\n\\nถ้าไม่แก้ไขปัญหาจากเหตุการณ์ดังกล่าวจะเกิดเหตุการณ์ Engineer Commit รายจ่ายให้สูงเกินความจำเป็น หรือ การใช้งานบางอย่าง (Serverless) ส่งผลให้เกิดรายจ่ายที่ผิดปกติในเดือนนั้น ๆ', start_char_idx=0, end_char_idx=1475, text_template='{metadata_str}\\n\\n{content}', metadata_template='{key}: {value}', metadata_seperator='\\n'), score=0.8873275897977735), NodeWithScore(node=TextNode(id_='b9ba1b0e-796a-4fa9-9748-a9c96b72e0ff', embedding=None, metadata={'filename': 'finops.md', 'extension': '.md'}, excluded_embed_metadata_keys=[], excluded_llm_metadata_keys=[], relationships={<NodeRelationship.SOURCE: '1'>: RelatedNodeInfo(node_id='29c14040-3d75-4e8c-b397-7181757629b8', node_type=<ObjectType.DOCUMENT: '4'>, metadata={'filename': 'finops.md', 'extension': '.md'}, hash='d5fbef9aa2cb4c27540f17fbc495a4e8c0c3b06af253f70394eeeb3e34a07ba9'), <NodeRelationship.PREVIOUS: '2'>: RelatedNodeInfo(node_id='14f6f62c-7a1e-4a0d-9b56-60860a075bb2', node_type=<ObjectType.TEXT: '1'>, metadata={'filename': 'finops.md', 'extension': '.md'}, hash='719ab3b601ff28c29fc862220bab014fdc7fa58a647f4d57293bb9896977f8e4'), <NodeRelationship.NEXT: '3'>: RelatedNodeInfo(node_id='19da5c96-aaa5-4662-a534-2c8547c2c596', node_type=<ObjectType.TEXT: '1'>, metadata={}, hash='bcd76116e48db75b50b75a791c1a04589bacc7035a8d07d150da79ef0fa45548')}, text='Cost และ Time สามารถเลือกได้แค่ 2 ใน 3 เท่านั้น\\n\\nD Phases\\nPhase กล่าวคือวงวนกระบวนการสำหรับ FinOps โดยกระบวนการดังกล่าวนั้นสามารถเริ่มจากกระบวนการใดก็ได้ ไม่จำเป็นต้องเริ่มจาก Inform แต่จำเป็นต้องทำตามลำดับเช่น เริ่มจาก Optimize จากนั้นเรียงไป Operate และ Inform ตามลำดับ ซึ่งเมื่อเราสามารถวนครบรอบได้แล้ว เราสามารถทำต่อไปได้ไม่มีที่สิ้นสุด เนื่องจากทุก ๆ ครั้งในการครบรอบสิ่งที่ทีมจะได้เพิ่มคือความเข้ากันได้ของทีม (Maturity)\\n\\nPhase แบ่งออกด้วยกันทั้งหมด 3 phase ได้แก่\\n\\n1 Inform\\n\\nPhase inform จะเน้นผลลัพธ์ในการสร้างการเข้าถึงข้อมูล, การจัดการข้อมูล, การวัดผล, การกำหนดรายจ่าย และการ forecast รายจ่าย ในส่วนของ Inform จำเป็นต้องสร้างตัวชี้วัดโดยอาศัยข้อมูลจากทีมอื่นเข้ามาเป็นตัวแปรร่วมด้วย\\n\\n2 Optimize\\n\\nหลาย ๆ บริษัทมักอยากจะกระโดดเข้ามาใน Phase นี้เป็นส่วนแรก เนื่องจากเห็นผลได้รวดเร็วและมองเห็นถึงผลลัพธ์ได้ง่าย ในส่วนของ FinOps Foundation นั้นให้ความหมายของ Phase นี้เอาไว้ว่า เป็นช่วงที่ต้องมองหาความเป็นไปได้ในการลดต้นทุนและใช้ทรัพยากรที่มีอยู่ให้มีประสิทธิภาพสูงที่สุด หรือเข้าใจโดยง่ายว่า การ Optimize ทุกอย่างนั้นจะเกิดขึ้นแบบทฤษฎีก่อนนำไปให้ทีมที่เกี่ยวข้องนั้นนำไปใช้งานจริง\\n\\n3 Operate\\n\\nPhase นี้มักเป็นส่วนที่ถูกมองข้ามในการจำกัดความแต่ในการปฏิบัตินั้นเกิดขึ้นโดยไม่รู้ตัว ซึ่งการ Operate จะเป็นการเริ่มติดตามถึงตัวชี้วัดที่เราวางไว้,', start_char_idx=7231, end_char_idx=8479, text_template='{metadata_str}\\n\\n{content}', metadata_template='{key}: {value}', metadata_seperator='\\n'), score=0.8751036805770269), NodeWithScore(node=TextNode(id_='14f6f62c-7a1e-4a0d-9b56-60860a075bb2', embedding=None, metadata={'filename': 'finops.md', 'extension': '.md'}, excluded_embed_metadata_keys=[], excluded_llm_metadata_keys=[], relationships={<NodeRelationship.SOURCE: '1'>: RelatedNodeInfo(node_id='29c14040-3d75-4e8c-b397-7181757629b8', node_type=<ObjectType.DOCUMENT: '4'>, metadata={'filename': 'finops.md', 'extension': '.md'}, hash='d5fbef9aa2cb4c27540f17fbc495a4e8c0c3b06af253f70394eeeb3e34a07ba9'), <NodeRelationship.PREVIOUS: '2'>: RelatedNodeInfo(node_id='b6cb92c6-3e1f-495e-8446-36b308d85ea2', node_type=<ObjectType.TEXT: '1'>, metadata={'filename': 'finops.md', 'extension': '.md'}, hash='241ebfa60f2cf54a22c9a294673d3a501af3304c56cbd787135372c1c7e3f2a5'), <NodeRelationship.NEXT: '3'>: RelatedNodeInfo(node_id='b9ba1b0e-796a-4fa9-9748-a9c96b72e0ff', node_type=<ObjectType.TEXT: '1'>, metadata={}, hash='25a2b7021957a276d487f68559c332b452b42464942ae92be957f590d7d26128')}, text='Finance, Business) ต้องเข้าถึงได้และทันท่วงที\\nการตัดสินใจต้องถูกขับเคลื่อนโดยคุณค่าด้านธุรกิจผ่านการใช้งาน Cloud computing\\nใช้ความได้เปรียบด้าน Variable cost จาก Cloud computing\\nC Personas\\nPersonas ในที่นี้จะระบุถึงแรงจูงใจ, ปัญหา, ตัวชี้วัดและสิ่งที่ได้จาก FinOps ซึ่ง Personas นั้นจะถูกแบ่งออกเป็น 5 บุคคลที่เกี่ยวข้องได้แก่\\n\\n1 FinOps Practitioner\\n\\nบุคคลผู้ซึ่งต้องการนำ FinOps เข้ามาใช้กับกระบวนการทำงานปัจจุบันของบริษัท โดยเป็นผู้ที่มีความเข้าใจใน Personas ของผู้อื่นมากที่สุด นิยามอย่างง่ายคือ ทีม Finance มองว่า (Practitioner) เป็นคนจากทีม Engineer แต่ทีม Engineer มองว่าเป็นคนจากทีม Fiannce\\n\\n2 Executive\\n\\nผู้บริหารคืออีกหนึ่ง Personas ที่ต้องเข้ามามีส่วนเกี่ยวข้องในเงื่อนของการคาดหวังผลลัพธ์และต้องมีส่วนช่วยในการสนับสนุน (Sponsor) การเปลี่ยนแปลงดังกล่าวให้เกิดขึ้นให้ได้  \\n\\n3 Business\\n\\nทีม Business หรือ Product owner ผู้ซึ่งต้องดูแลการเติบโตและวางเป้าหมายให้ตัวผลิตภัฑณ์หรือบริการที่กำลังดูแลอยู่นั้น ส่งมอบมูลค่าแก่ลูกค้าได้อย่างครบถ้วนและตรงจุด เป็นผู้ซึ่งเข้าใจในส่วนของ User หรือ Customer ได้ดีที่สุดจากทั้ง 5 บุคคลที่เกี่ยวข้อง\\n\\n4 Finance\\n\\nทีม Finance เป็นทีมที่ดูแลเกี่ยวกับการลงทุนในแต่ละโปรเจคและต้องคอยประเมินถึงค่าใช้จ่ายระยะยาว โดยต้องประเมินถึงความคุ้มทุนของโปรเจคที่ต้องลงทุนและประเมินว่าเมื่อถึงเวลาใดจะเป็นจุด Break event point\\n\\n5 Engineer\\n\\nบุคคลที่เป็นคนตัดสินความเป็นไปได้ของการสร้างผลิตภัฑณ์หรือบริการ ซึ่งความเป็นไปได้สำหรับผลิตภัฑณ์หรือบริการทางด้าน software นั้น ตั้งอยู่บนพื้นฐาน 3 สิ่งคือ Quality,', start_char_idx=5800, end_char_idx=7230, text_template='{metadata_str}\\n\\n{content}', metadata_template='{key}: {value}', metadata_seperator='\\n'), score=0.8740387428434587), NodeWithScore(node=TextNode(id_='d7ad2e52-610f-46f5-a394-b17039f4eeaf', embedding=None, metadata={'filename': 'finops.md', 'extension': '.md'}, excluded_embed_metadata_keys=[], excluded_llm_metadata_keys=[], relationships={<NodeRelationship.SOURCE: '1'>: RelatedNodeInfo(node_id='29c14040-3d75-4e8c-b397-7181757629b8', node_type=<ObjectType.DOCUMENT: '4'>, metadata={'filename': 'finops.md', 'extension': '.md'}, hash='d5fbef9aa2cb4c27540f17fbc495a4e8c0c3b06af253f70394eeeb3e34a07ba9'), <NodeRelationship.PREVIOUS: '2'>: RelatedNodeInfo(node_id='0b767413-6bdc-492a-b79b-daaabcfb4c25', node_type=<ObjectType.TEXT: '1'>, metadata={'filename': 'finops.md', 'extension': '.md'}, hash='e9e85323e12ec6f307464fe751deb009f023b3ad202ecb6d8ca4e940d5a4582c'), <NodeRelationship.NEXT: '3'>: RelatedNodeInfo(node_id='ec8160a0-a4b8-4e9b-9a30-e2d3638b271d', node_type=<ObjectType.TEXT: '1'>, metadata={}, hash='32cc6925577af327b849a69022a0a4d1bc68a41a423c141a75b08002a9a98a3c')}, text='เครื่องมือ, กิจกรรม, ความเข้ากันได้ หรือ สิ่งขับเคลื่อน ซึ่งแต่ละหัวข้อสามารถแยกพิจารณาเมื่อไหร่ก็ได้ ไม่จำเป็นต้องเรียงลำดับและในแต่ละบริษัทไม่จำที่จะต้องให้น้ำหนักกับแต่ละหัวข้อเหมือนกันทุกบริษัท ขึ้นอยู่กับบริบทของบริษัทนั้น ๆ\\n\\nเราขอเริ่มอธิบายจากหัวข้อแรก\\n\\nA Maturity\\nMaturity เราอาจจะเรียกได้ว่าเป็นประสบการณ์ของทีม แต่ในที่นี้ขอเรียกว่าความเข้ากันได้ เนื่องจากบางบริษัททีมมีความเข้ากันได้อยู่แล้ว เคยทำงานร่วมกันด้วยความเข้าใจดีเยี่ยม ความเข้ากันได้ของทีมนั้น ๆ ก็จะสูงตาม\\n\\nในบริบทของ FinOps เราแบ่ง Maturity ออกเป็น 3 ช่วง ได้แก่\\n\\nCrawl\\nช่วงแรกเริ่มของการนำ FinOps เข้ามาประยุกต์เข้ากับบริษัทของตัวเอง ซึ่งเราสามารถประเมินได้ว่าบริษัทที่อยู่ในช่วงดังกล่าวได้ว่า กระบวนการทำงาน, กระบวนการรายงานผล ยังอยู่ในรูปแบบของ Manual หรือไม่ได้ใช้ระบบอัตโนมัติเข้ามาช่วย รวมถึงการทำงานบางส่วน เช่น Forecast ค่าใช้จ่าย ยังคงต้องคำนวนใหม่ทุกครั้ง ยังไม่ได้สร้างสูตรหรือโมเดลในการช่วยคำนวน ต้องให้ทีม Finance ประเมินทุก ๆ คร้ัง\\n\\nWalk\\nบางบริษัทอาจจะเริ่มจากช่วงนี้เลยก็เป็นไปได้ สำหรับช่วง walk นั้นจะเรียกได้ว่าเป็นช่วงของ Semi-Automate process เนื่องจากทีมมีบุคคลที่มีความสามารถในการสร้าง Automate process ด้วยตัวเอง ไม่ว่าจะเป็นทีม Engineer,', start_char_idx=3530, end_char_idx=4665, text_template='{metadata_str}\\n\\n{content}', metadata_template='{key}: {value}', metadata_seperator='\\n'), score=0.8734551689692094), NodeWithScore(node=TextNode(id_='c2402a3f-8054-4212-9889-a879e8d1ea07', embedding=None, metadata={'filename': 'finops.md', 'extension': '.md'}, excluded_embed_metadata_keys=[], excluded_llm_metadata_keys=[], relationships={<NodeRelationship.SOURCE: '1'>: RelatedNodeInfo(node_id='29c14040-3d75-4e8c-b397-7181757629b8', node_type=<ObjectType.DOCUMENT: '4'>, metadata={'filename': 'finops.md', 'extension': '.md'}, hash='d5fbef9aa2cb4c27540f17fbc495a4e8c0c3b06af253f70394eeeb3e34a07ba9'), <NodeRelationship.PREVIOUS: '2'>: RelatedNodeInfo(node_id='19da5c96-aaa5-4662-a534-2c8547c2c596', node_type=<ObjectType.TEXT: '1'>, metadata={'filename': 'finops.md', 'extension': '.md'}, hash='ec223405c5bdea783c79cec5e1c0f78ab276c9aaaf6af4525c1bbdd2f3b3dacb')}, text='การกำหนดผลลัพธ์ที่คาดหวัง หรือ ใช้ข้อมูลย้อนหลังเพื่อเป็นสมมติฐานการคำนวนรายจ่ายในอนาคต การวัดผลและการสร้างตัวชี้วัดทั้งหมดจะถูกสร้างใน Domain นี้\\n\\n3 Real-Time Decision Making\\n\\nการสร้างระบบสำหรับตัดสินใจแบบ Real time จะช่วยให้ผู้ที่มีส่วนได้ส่วนเสียทั้งหมดมีประสิทธิภาพในการรับมือกับสถานการณ์ต่าง ๆ ได้ดียิ่งขึ้น ไม่ว่าจะเป็นในด้านของเวลาในการตัดสินใจ หรือ คุณภาพในการตัดสินใจซึ่งต้องไปในทิศทางเดียวกันกับบริษัท\\n\\n4 Cloud Rate Optimization\\n\\nภายใน Domain นี้จะกล่าวถึงการทำความเข้าใจเกี่ยวกับรูปแบบการคิดค่าบริการของผู้ให้บริการ Cloud computing และทำการปรับปรุงรายจ่าย Cloud computing ของบริษัทให้สอดคล้องกับรูปแบบการคิดค่าบริการของผู้ให้บริการ โดยคำนึงถึงข้อจำกัดที่แปรผันตามรูปแบบการคิดค่าบริการที่ต่างไป\\n\\n5 Cloud Usage Optimization\\n\\nDomain นี้ให้ความสำคัญถึงการใช้ทรัพยากรที่มีอยู่ให้คุ้มค่าที่สุด โดยการระบุและลงมือเปลี่ยนแปลงงานบางประเภทให้ประมวลผลให้ช่วงเวลาที่ Cloud computing นั้นไม่ได้ใช้งาน และรวมถึงการเปลี่ยนแปลงทรัพยากรที่มีอยู่ในเหมาะสมกับประเภทของงาน\\n\\n6 Organizational Alignment\\nสำหรับ Domain นี้จะกล่าวถึงการที่บริษัทนั้นมีทิศทางในการใช้งาน Cloud computing ในทิศทางเดียวกันผ่าน Principles ของ FinOps ร่วมกัน เพื่อที่จะกำหนดวัฒนธรรมและนโยบายสำหรับบริษัทโดยไม่ขัดแย้งต่อวัฒนธรรมเดิมที่มีอยู่ของบริษัท', start_char_idx=9103, end_char_idx=10315, text_template='{metadata_str}\\n\\n{content}', metadata_template='{key}: {value}', metadata_seperator='\\n'), score=0.8704583180047608)]\n"
     ]
    }
   ],
   "source": [
    "retrieval_engine = load_index.as_retriever(similarity_top_k = 5)\n",
    "response = retrieval_engine.retrieve(\"FinOps คืออะไร?\")\n",
    "print('-------------RAG-------------')\n",
    "print(response)"
   ]
  },
  {
   "cell_type": "code",
   "execution_count": 29,
   "metadata": {},
   "outputs": [
    {
     "name": "stdout",
     "output_type": "stream",
     "text": [
      "-------------RAG-------------\n",
      "FinOps, or Cloud Financial Operations, is a strategic approach to managing cloud costs and resources. It involves analyzing, managing, and optimizing cloud usage to achieve cost efficiency and resource utilization. This includes forecasting costs, setting budgets, and monitoring usage to ensure that resources are being used effectively.\n",
      "\n",
      "The maturity of a FinOps practice can be divided into three stages: Crawl, Walk, and Run. \n",
      "\n",
      "1. Crawl: This is the initial stage\n"
     ]
    }
   ],
   "source": [
    "query_engine = load_index.as_query_engine(similarity_top_k = 5,llm=llm)\n",
    "response = query_engine.query(\"FinOps คืออะไร?\")\n",
    "print('-------------RAG-------------')\n",
    "print(response)"
   ]
  },
  {
   "cell_type": "code",
   "execution_count": 30,
   "metadata": {},
   "outputs": [
    {
     "name": "stdout",
     "output_type": "stream",
     "text": [
      "-------------RAG-------------\n",
      "FinOps, or Cloud Financial Operations, is a strategic approach to managing cloud costs and resources. It involves analyzing, managing, and optimizing cloud usage to ensure that organizations can use resources efficiently and cost-effectively. This includes understanding the costs of cloud services, monitoring usage, and making data-driven decisions to optimize spending. FinOps is not a one-size-fits-all approach. It\n"
     ]
    }
   ],
   "source": [
    "query_engine = load_index.as_chat_engine(similarity_top_k = 5,llm=llm)\n",
    "response = query_engine.chat(\"FinOps คืออะไร?\")\n",
    "print('-------------RAG-------------')\n",
    "print(response)"
   ]
  },
  {
   "cell_type": "code",
   "execution_count": 31,
   "metadata": {},
   "outputs": [
    {
     "name": "stdout",
     "output_type": "stream",
     "text": [
      "-------------RAG-------------\n",
      "FinOps หรือ Cloud Financial Operations คือ แนวทางการจัดการค่าใช้จ่ายและทรัพยากรของคลาวด์คอมพิวติง โดยมีวัตถุประสงค์เพื่อให้องค์กรสามารถใช้ทรัพยากรได้อย่างมีประสิทธิภาพและประหยัดค่าใช้จ่าย การ FinOps ประกอบด้วยการวิเคราะห์ค่าใช้จ่ายของบริการค\n"
     ]
    }
   ],
   "source": [
    "response = query_engine.chat(\"ตอบภาษาไทยได้มั้ย?\")\n",
    "print('-------------RAG-------------')\n",
    "print(response)"
   ]
  },
  {
   "cell_type": "markdown",
   "metadata": {},
   "source": [
    "#### RAG"
   ]
  },
  {
   "cell_type": "code",
   "execution_count": 32,
   "metadata": {},
   "outputs": [
    {
     "name": "stdout",
     "output_type": "stream",
     "text": [
      "FinOps, or Financial Operations, is a practice that focuses on managing cloud costs and optimizing the use of cloud resources. It involves a combination of people, processes, and technology to ensure that cloud spending aligns with business objectives. Here's a breakdown of what FinOps typically includes:\n",
      "\n",
      "1. **People (Personas):** FinOps involves various personas, each with their own roles and responsibilities. These include:\n",
      "   - **FinOps Practitioner:** Responsible for implementing FinOps practices within the organization.\n",
      "   - **Executive:** Responsible for providing strategic direction and ensuring alignment with business goals.\n",
      "   - **Business:** Responsible for understanding customer needs and ensuring the cloud solutions meet those needs.\n",
      "   - **Finance:** Responsible for managing the financial aspects of cloud spending.\n",
      "   - **Engineer:** Responsible for ensuring the technical feasibility of cloud solutions.\n",
      "\n",
      "2. **Processes:** FinOps involves a set of processes that help manage cloud costs. These include:\n",
      "   - **Inform:** This phase involves gathering data, setting up cost tracking, and forecasting future costs.\n",
      "   - **Optimize:** This phase involves analyzing data to identify areas of cost optimization and implementing changes to reduce costs.\n",
      "   - **Operate:** This phase involves ongoing monitoring and management of cloud costs.\n",
      "\n",
      "3. **Technology:** FinOps involves the use of various tools and technologies to manage cloud costs. These include:\n",
      "   - **Cloud Cost Management Tools:** These tools help track and analyze cloud costs.\n",
      "   - **Cloud Resource Management Tools:** These tools help manage and optimize the use of cloud resources.\n",
      "   - **Cloud Governance Tools:** These tools help ensure compliance with cloud policies and regulations.\n",
      "\n",
      "In summary, FinOps is a holistic approach to managing cloud costs that involves people, processes, and technology. It helps organizations ensure that their cloud spending aligns with their business objectives and maximizes the value they get from their cloud investments.\n"
     ]
    }
   ],
   "source": [
    "from llama_index.core import VectorStoreIndex, get_response_synthesizer,load_index_from_storage,StorageContext\n",
    "from llama_index.core.retrievers import VectorIndexRetriever\n",
    "from llama_index.core.query_engine import RetrieverQueryEngine\n",
    "from llama_index.core.response_synthesizers.type import ResponseMode\n",
    "from llama_index.embeddings.huggingface import HuggingFaceEmbedding\n",
    "from llama_index.llms.openai_like import OpenAILike\n",
    "\n",
    "# configure LLMs\n",
    "custom_api = 'float16-ZrIyRfu4XLpUS5y4ZUOd80VLpSjdYUfsLBY3kSUDTMZB8ra0p1'\n",
    "custom_url = 'https://api.float16.cloud/v1/llamaindex/'\n",
    "llm = OpenAILike(api_base=custom_url,api_key=custom_api,max_tokens=512,model='SeaLLM-7b-v2',api_version='v1')\n",
    "embed_model = HuggingFaceEmbedding(model_name=\"intfloat/multilingual-e5-large\",device='cpu')\n",
    "\n",
    "# build index\n",
    "load_index = load_index_from_storage(StorageContext.from_defaults(persist_dir='./localstore/'),embed_model=embed_model)\n",
    "\n",
    "\n",
    "# load_index.as_retriever()\n",
    "\n",
    "# configure retriever\n",
    "retriever = VectorIndexRetriever(\n",
    "    index=load_index, # type: ignore\n",
    "    similarity_top_k=2,\n",
    ")\n",
    "\n",
    "# configure response synthesizer\n",
    "response_synthesizer = get_response_synthesizer(\n",
    "    response_mode=ResponseMode.SIMPLE_SUMMARIZE,\n",
    "    llm = llm\n",
    ")\n",
    "\n",
    "\n",
    "# assemble query engine\n",
    "query_engine = RetrieverQueryEngine(\n",
    "    retriever=retriever,\n",
    "    response_synthesizer=response_synthesizer,\n",
    ")\n",
    "\n",
    "# query\n",
    "response = query_engine.query(\"FinOps ประกอบด้วยอะไรบ้าง?\")\n",
    "print(response)"
   ]
  },
  {
   "cell_type": "code",
   "execution_count": 33,
   "metadata": {},
   "outputs": [],
   "source": [
    "from llama_index.core import VectorStoreIndex,get_response_synthesizer\n",
    "from llama_index.readers.file import FlatReader\n",
    "from llama_index.embeddings.huggingface import HuggingFaceEmbedding\n",
    "from llama_index.llms.openai_like import OpenAILike\n",
    "from llama_index.core.node_parser import SimpleFileNodeParser,TokenTextSplitter\n",
    "from llama_index.core import Settings\n",
    "from transformers import AutoTokenizer\n",
    "from pathlib import Path\n",
    "\n",
    "custom_api = 'float16-ZrIyRfu4XLpUS5y4ZUOd80VLpSjdYUfsLBY3kSUDTMZB8ra0p1'\n",
    "custom_url = 'https://api.float16.cloud/v1/llamaindex/'\n",
    "tokenizer = AutoTokenizer.from_pretrained(\"SeaLLMs/SeaLLM-7B-v2\").encode\n",
    "llm = OpenAILike(api_base=custom_url,\n",
    "                 api_key=custom_api,\n",
    "                 max_tokens=512,\n",
    "                 model='SeaLLM-7b-v2',\n",
    "                 api_version='v1',\n",
    "                 )\n",
    "token_spliter = TokenTextSplitter(\n",
    "    chunk_size=512,\n",
    "    chunk_overlap=64,\n",
    "    tokenizer=tokenizer,\n",
    ")\n",
    "text_parser = SimpleFileNodeParser()\n",
    "\n",
    "embed_model = HuggingFaceEmbedding(model_name=\"intfloat/multilingual-e5-large\",device='cpu')\n",
    "md_docs = FlatReader().load_data(Path(\"./MockupData/finops.md\"))\n",
    "md_nodes = token_spliter.get_nodes_from_documents(text_parser.get_nodes_from_documents(md_docs)) # type: ignore\n",
    "\n",
    "Settings.embed_model = embed_model\n",
    "Settings.llm = llm\n",
    "Settings.context_window = 4000 \n",
    "Settings.tokenizer = tokenizer\n",
    "Settings.num_output = 512\n",
    "response_synthesizer = get_response_synthesizer(\n",
    "      response_mode=\"simple_summarize\" # type: ignore\n",
    ")\n",
    "\n",
    "index = VectorStoreIndex(md_nodes)\n",
    "query_engine = index.as_query_engine(\n",
    "    llm=llm,\n",
    "    similarity_top_k = 10, #8000 token ; Expect 10 => 5 ; Actual 10 (100%) => 10 (50%)\n",
    "    response_synthesizer = response_synthesizer)\n",
    "response = query_engine.query(\"FinOps คืออะไร?\")"
   ]
  },
  {
   "cell_type": "code",
   "execution_count": 34,
   "metadata": {},
   "outputs": [
    {
     "data": {
      "text/plain": [
       "'FinOps (Cloud Financial Operations) คือการบริหารจัดการค่าใช้จ่ายและการใช้งานของคลาวด์คอมพิวติงในองค์กร โดยมีเป้าหมายเพื่อลดค่าใช้จ่ายที่ไม่จำเป็นและเพิ่มประสิทธิภาพการใช้งานคลาวด์ คำว่า FinOps มาจากคำว่า Financial Operations ซึ่งเป็นการบริหารจัดการด้านการเงินและการเงินในองค์กร โดย FinOps จะเน้นไปที่การบริหารจัดการค่าใช้จ่ายและการใช้งานคลาวด์คอมพิวติงในองค์กร\\n\\nFinOps Foundation เป็นองค์กรที่สนับสนุนการพัฒนาและส่งเสริมการใช้งาน FinOps ในองค์กร โดยมีเป้าหมายเพื่อช่วยให้องค์กรต่างๆ สามารถใช้งานคลาวด์คอมพิวติงได้อย่างมีประสิทธิภาพและมีค่าใช้จ่ายที่เหมาะสม\\n\\nการใช้งาน FinOps จะช่วยให้องค์กรสามารถติดตามและควบคุมการใช้งานคลาวด์ได้อย่างมีประสิทธิภาพ โดยการใช้เครื่องมือและแนวทางการทำงานที่เหมาะสม เพื่อให้สามารถตรวจสอบและจัดการค่าใช้จ่ายของคลาวด์ได้อย่างแม่นยำและมีประสิทธิภาพ\\n\\nการใช้งาน FinOps จะช่วยให้องค์กรสามารถลดค่าใช้จ่ายที่ไม่จำเป็นและเพิ่มประสิทธิภาพการใช้งานคลาวด์ได้ โดยการใช้เครื่องมือและแนวทางการทำงานที่เหมาะสม เพื่อให้สามารถตรวจสอบและจัดการค่าใช้จ่ายของคลาวด์ได้อย่างแม่นยำและมีประสิทธิภาพ'"
      ]
     },
     "execution_count": 34,
     "metadata": {},
     "output_type": "execute_result"
    }
   ],
   "source": [
    "response.response # type: ignore"
   ]
  },
  {
   "cell_type": "markdown",
   "metadata": {},
   "source": [
    "## Agent"
   ]
  },
  {
   "cell_type": "code",
   "execution_count": 35,
   "metadata": {},
   "outputs": [
    {
     "name": "stdout",
     "output_type": "stream",
     "text": [
      "\u001b[1;3;38;5;200mThought: I need to use a tool to help me answer the question.\n",
      "Action: multiply\n",
      "Action Input: {\"a\": 2123, \"b\": 111}\n",
      "\n",
      "Observation: 237033\n",
      "\n",
      "Thought: I can answer without using any more tools.\n",
      "Answer: 237033\n",
      "\u001b[0m237033\n"
     ]
    }
   ],
   "source": [
    "from llama_index.core.tools import FunctionTool\n",
    "from llama_index.llms.openai_like import OpenAILike\n",
    "from llama_index.core.agent import ReActAgent\n",
    "from llama_index.core.agent.react.formatter import ReActChatFormatter\n",
    "\n",
    "custom_api = 'float16-ZrIyRfu4XLpUS5y4ZUOd80VLpSjdYUfsLBY3kSUDTMZB8ra0p1'\n",
    "custom_url = 'https://api.float16.cloud/v1/llamaindex/'\n",
    "\n",
    "# define sample Tool\n",
    "def multiply(a: int, b: int) -> int:\n",
    "    \"\"\"Multiple two integers and returns the result integer\"\"\"\n",
    "    return a * b\n",
    "\n",
    "\n",
    "multiply_tool = FunctionTool.from_defaults(fn=multiply)\n",
    "\n",
    "# initialize llm\n",
    "llm = OpenAILike(api_base=custom_url,api_key=custom_api,max_tokens=100,model='SeaLLM-7b-v2',api_version='v1')\n",
    "\n",
    "# initialize ReAct agent\n",
    "agent = ReActAgent.from_tools([multiply_tool], llm=llm, verbose=True)\n",
    "res = agent.chat(\"What is 2123 * 111\")\n",
    "print(res)"
   ]
  },
  {
   "cell_type": "code",
   "execution_count": 36,
   "metadata": {},
   "outputs": [
    {
     "name": "stdout",
     "output_type": "stream",
     "text": [
      "system: \n",
      "You are designed to help with a variety of tasks, from answering questions     to providing summaries to other types of analyses.\n",
      "\n",
      "## Tools\n",
      "You have access to a wide variety of tools. You are responsible for using\n",
      "the tools in any sequence you deem appropriate to complete the task at hand.\n",
      "This may require breaking the task into subtasks and using different tools\n",
      "to complete each subtask.\n",
      "\n",
      "You have access to the following tools:\n",
      "> Tool Name: multiply\n",
      "Tool Description: multiply(a: int, b: int) -> int\n",
      "Multiple two integers and returns the result integer\n",
      "Tool Args: {\"type\": \"object\", \"properties\": {\"a\": {\"title\": \"A\", \"type\": \"integer\"}, \"b\": {\"title\": \"B\", \"type\": \"integer\"}}, \"required\": [\"a\", \"b\"]}\n",
      "\n",
      "\n",
      "## Output Format\n",
      "To answer the question, please use the following format.\n",
      "\n",
      "```\n",
      "Thought: I need to use a tool to help me answer the question.\n",
      "Action: tool name (one of multiply) if using a tool.\n",
      "Action Input: the input to the tool, in a JSON format representing the kwargs (e.g. {\"input\": \"hello world\", \"num_beams\": 5})\n",
      "```\n",
      "\n",
      "Please ALWAYS start with a Thought.\n",
      "\n",
      "Please use a valid JSON format for the Action Input. Do NOT do this {'input': 'hello world', 'num_beams': 5}.\n",
      "\n",
      "If this format is used, the user will respond in the following format:\n",
      "\n",
      "```\n",
      "Observation: tool response\n",
      "```\n",
      "\n",
      "You should keep repeating the above format until you have enough information\n",
      "to answer the question without using any more tools. At that point, you MUST respond\n",
      "in the one of the following two formats:\n",
      "\n",
      "```\n",
      "Thought: I can answer without using any more tools.\n",
      "Answer: [your answer here]\n",
      "```\n",
      "\n",
      "```\n",
      "Thought: I cannot answer the question with the provided tools.\n",
      "Answer: Sorry, I cannot answer your query.\n",
      "```\n",
      "\n",
      "## Current Conversation\n",
      "Below is the current conversation consisting of interleaving human and assistant messages.\n",
      "\n",
      "\n"
     ]
    }
   ],
   "source": [
    "prompt = ReActChatFormatter().format(tools=[multiply_tool],chat_history=[])\n",
    "for i in prompt : \n",
    "    print(i)"
   ]
  },
  {
   "cell_type": "markdown",
   "metadata": {},
   "source": [
    "### Tools"
   ]
  },
  {
   "cell_type": "markdown",
   "metadata": {},
   "source": [
    "#### Query Engine Tools"
   ]
  },
  {
   "cell_type": "code",
   "execution_count": 37,
   "metadata": {},
   "outputs": [],
   "source": [
    "from llama_index.core import VectorStoreIndex,StorageContext\n",
    "from llama_index.readers.file import FlatReader\n",
    "from llama_index.embeddings.huggingface import HuggingFaceEmbedding\n",
    "from llama_index.core.node_parser import SentenceSplitter\n",
    "from llama_index.core.vector_stores import SimpleVectorStore\n",
    "from llama_index.core.storage.docstore import SimpleDocumentStore\n",
    "from llama_index.core.storage.index_store import SimpleIndexStore\n",
    "from pathlib import Path\n",
    "\n",
    "sentence_spilit = SentenceSplitter(\n",
    "    chunk_size=512\n",
    ")\n",
    "\n",
    "storage_context = StorageContext.from_defaults(\n",
    "    vector_store=SimpleVectorStore(),\n",
    "    docstore=SimpleDocumentStore(),\n",
    "    index_store=SimpleIndexStore(),\n",
    ")\n",
    "\n",
    "\n",
    "embed_model = HuggingFaceEmbedding(model_name=\"intfloat/multilingual-e5-large\",device='cpu')\n",
    "finops_docs = FlatReader().load_data(Path(\"./MockupData/finops.md\"))\n",
    "orbit_docs = FlatReader().load_data(Path(\"./MockupData/orbit.md\"))\n",
    "\n",
    "finops_nodes = sentence_spilit.get_nodes_from_documents(finops_docs)\n",
    "orbit_nodes = sentence_spilit.get_nodes_from_documents(orbit_docs)\n",
    "\n",
    "finops = VectorStoreIndex(finops_nodes,embed_model=embed_model,storage_context=storage_context)\n",
    "orbit = VectorStoreIndex(orbit_nodes,embed_model=embed_model,storage_context=storage_context)"
   ]
  },
  {
   "cell_type": "code",
   "execution_count": 38,
   "metadata": {},
   "outputs": [],
   "source": [
    "from llama_index.core.query_engine import SubQuestionQueryEngine\n",
    "from llama_index.core.tools import QueryEngineTool,ToolMetadata\n",
    "from llama_index.llms.openai_like import OpenAILike\n",
    "\n",
    "custom_api = 'float16-ZrIyRfu4XLpUS5y4ZUOd80VLpSjdYUfsLBY3kSUDTMZB8ra0p1'\n",
    "custom_url = 'https://api.float16.cloud/v1/llamaindex/'\n",
    "\n",
    "# initialize llm\n",
    "llm = OpenAILike(api_base=custom_url,api_key=custom_api,max_tokens=1024,model='SeaLLM-7b-v2',api_version='v1')\n",
    "\n",
    "finops_engine = finops.as_query_engine(similarity_top_k=3,llm=llm)\n",
    "orbit_engine = orbit.as_query_engine(similarity_top_k=3, llm=llm)\n",
    "\n",
    "query_engine_tools = [\n",
    "    QueryEngineTool(\n",
    "        query_engine=finops_engine,\n",
    "        metadata=ToolMetadata(\n",
    "            name=\"finops\",\n",
    "            description=\"ข้อมูลเกี่ยวกับแนวคิดของ Finops\",\n",
    "        ),\n",
    "    ),\n",
    "    QueryEngineTool(\n",
    "        query_engine=orbit_engine,\n",
    "        metadata=ToolMetadata(\n",
    "            name=\"orbit\",\n",
    "            description=\"ข้อมูลเกี่ยวกับแนวคิดของ Orbit\",\n",
    "        ),\n",
    "    ),\n",
    "]\n",
    "\n",
    "sub_query_engine = SubQuestionQueryEngine.from_defaults(query_engine_tools, llm=llm, verbose=True,use_async=True)"
   ]
  },
  {
   "cell_type": "code",
   "execution_count": 39,
   "metadata": {},
   "outputs": [
    {
     "name": "stdout",
     "output_type": "stream",
     "text": [
      "Generated 2 sub questions.\n",
      "\u001b[1;3;38;2;237;90;200m[finops] Q: What is Finops\n",
      "\u001b[0m\u001b[1;3;38;2;90;149;237m[orbit] Q: What is Orbit\n",
      "\u001b[0m\u001b[1;3;38;2;237;90;200m[finops] A: FinOps, or cloud financial operations, is a framework and set of best practices for managing and optimizing cloud costs. It's a collaborative effort between finance, IT, and lines of business to manage cloud resources and costs. The goal of FinOps is to ensure that cloud resources are used efficiently and cost-effectively, while also providing visibility and control over cloud spending.\n",
      "\n",
      "FinOps involves several key elements, including cost allocation, cost optimization, and cost governance. It also involves understanding the cost drivers of cloud usage, such as usage patterns, resource utilization, and pricing models.\n",
      "\n",
      "The FinOps Foundation, which is supported by The Linux Foundation, aims to promote the adoption and advancement of FinOps practices. It provides a community for practitioners to share knowledge, best practices, and tools.\n",
      "\n",
      "In summary, FinOps is a strategic approach to managing cloud costs, ensuring that organizations are getting the most value from their cloud investments.\n",
      "\u001b[0m\u001b[1;3;38;2;90;149;237m[orbit] A: Orbit Model is a framework or model used to measure and understand the level of engagement and impact of individuals within a community or organization. It is designed to help community managers and creators enhance diversity and improve the effectiveness of their communities. This model is particularly useful for creating high gravity communities, where \"gravity\" represents the level of involvement of community members.\n",
      "\n",
      "The Orbit Model consists of four key concepts:\n",
      "\n",
      "1. Gravity: This represents the level of involvement of community members, measured at the community level.\n",
      "2. Love: This indicates the individual level of engagement of community members.\n",
      "3. Reach: This refers to the size of the impact that community members have on the success of the community.\n",
      "4. Impact: This represents the outcomes or results that are achieved through the community's activities.\n",
      "\n",
      "The model emphasizes the importance of activities and the perception of the community, and it categorizes various types of activities into different groups, each with a weight that indicates the level of responsibility and involvement in the community. Examples of activities include participation, posting in forums, giving presentations, organizing events, answering questions, opening pull requests on platforms like GitHub, writing blog posts, donating, and expressing gratitude.\n",
      "\n",
      "Each activity has a weight that reflects the level of engagement and contribution to the community. For instance, organizing events is considered a high-commitment activity with a weight of 11.\n",
      "\u001b[0m"
     ]
    }
   ],
   "source": [
    "import nest_asyncio\n",
    "nest_asyncio.apply()\n",
    "res = sub_query_engine.query('finops และ orbit แตกต่างกันอย่างไร')"
   ]
  },
  {
   "cell_type": "code",
   "execution_count": 40,
   "metadata": {},
   "outputs": [
    {
     "data": {
      "text/plain": [
       "\"FinOps and Orbit are two distinct concepts that serve different purposes.\\n\\nFinOps, or cloud financial operations, is a framework and set of best practices for managing and optimizing cloud costs. It's a collaborative effort between finance, IT, and lines of business to manage cloud resources and costs. The goal of FinOps is to ensure that cloud resources are used efficiently and cost-effectively, while also providing visibility and control over cloud spending.\\n\\nOn the other hand, Orbit Model is a framework or model used to measure and understand the level of engagement and impact of individuals within a community or organization. It is designed to help community managers and creators enhance diversity and improve the effectiveness of their communities.\\n\\nIn summary, FinOps is a strategic approach to managing cloud costs, ensuring that organizations are getting the most value from their cloud investments, while Orbit Model is a framework to measure and understand the level of engagement and impact of individuals within a community or organization.\""
      ]
     },
     "execution_count": 40,
     "metadata": {},
     "output_type": "execute_result"
    }
   ],
   "source": [
    "res.response "
   ]
  },
  {
   "cell_type": "code",
   "execution_count": 41,
   "metadata": {},
   "outputs": [
    {
     "name": "stdout",
     "output_type": "stream",
     "text": [
      "Generated 2 sub questions.\n",
      "\u001b[1;3;38;2;237;90;200m[finops] Q: Finops คืออะไร\n",
      "\u001b[0m\u001b[1;3;38;2;90;149;237m[orbit] Q: Orbit คืออะไร\n",
      "\u001b[0m\u001b[1;3;38;2;90;149;237m[orbit] A: Orbit Model เป็นกรอบการทำงานที่ใช้ในการสร้างชุมชนที่มีอัตราการมีส่วนร่วมสูง (high gravity communities) โดยเน้นการสร้างประสบการณ์สมาชิกที่โดดเด่นและเสริมสร้างความสัมพันธ์ระหว่างสมาชิกในชุมชน\n",
      "\n",
      "โมเดลนี้แบ่งออกเป็นสี่แนวคิดหลัก ได้แก่ \"Gravity\" (อัตราการมีส่วนร่วมของสมาชิกที่วัดที่ระดับของชุมชน), \"Love\" (การมีส่วนร่วมของสมาชิกรายบุคคล), \"Reach\" (ขนาดของผลกระทบที่สมาชิกมีต่อความสำเร็จของชุมชน), และ \"Impact\" (ผลลัพธ์ที่เกิดขึ้นจากการดำเนินการ).\n",
      "\n",
      "Orbit Model เน้นการวัดและเข้าใจกิจกรรมต่างๆ ที่สมาชิกมีส่วนร่วมในชุมชน โดยแบ่งประเภทกิจกรรมต่าง ๆ ออกเป็นกลุ่มต่าง ๆ โดยมีน้ำหนักที่บ่งบอกระดับความรับผิดชอบและการมีส่วนร่วมในชุมชน ตัวอย่างของกิจกรรมเช่น การเข้าร่วม, การโพสต์ในฟอรัม, การนำเสนอ, การจัดการพบปะ, การถาม-ตอบคำถาม, การเปิด pull request ในแพลตฟอร์มเช่น GitHub, การเขียนบทความบล็อก, การบริจาค, และการส่งคำขอบคุณ.\n",
      "\n",
      "โมเดลนี้เป็นเครื่องมือที่มีประสิทธิภาพสำหรับผู้จัดการและผู้สร้างชุมชน เพื่อเสริมความหลากหลายและเพิ่มประสิทธิภาพของชุมชน และช่วยให้สามารถวัดและเข้าใจความมีส่วนร่วมและผลกระทบของสมาชิกและสนับสนุนสมาชิกได้อย่างมีประสิทธิภาพมากยิ่งขึ้น.\n",
      "\u001b[0m\u001b[1;3;38;2;237;90;200m[finops] A: FinOps (Cloud Financial Operations) เป็นโครงการที่ได้รับการสนับสนุนจาก The Linux Foundation เพื่อช่วยสร้างโครงสร้างพื้นฐานที่สนับสนุนการใช้งาน Cloud computing อย่างมีคุณค่า. มันถูกสร้างขึ้นหลังจากการมีอยู่ของ Cloud computing ประมาณ 10 ปี (AWS establish in 2006) และถือว่าเป็นโครงสร้างพื้นฐานที่อายุน้อยมาก (เทียบกับปี 2023).\n",
      "\n",
      "FinOps มีวัตถุประสงค์เพื่อช่วยให้บริษัทสามารถจัดการกับการใช้จ่ายใน Cloud computing ได้อย่างมีประสิทธิภาพ โดยการสร้างกระบวนการทำงานและรายงานผลที่มีประสิทธิภาพ. มันช่วยให้ทีมต่างๆ เช่น ทีม Engineer, ทีม Finance, และทีม Procurement สามารถทำงานร่วมกันได้อย่างมีประสิทธิภาพ.\n",
      "\n",
      "FinOps ยังมีแนวคิดเกี่ยวกับ \"Maturity\" ซึ่งแบ่งออกเป็น 3 ช่วง ได้แก่ Crawl, Walk, และ Run. ช่วง Crawl คือช่วงเริ่มต้นของการนำ FinOps เข้ามาประยุกต์เข้ากับบริษัทของตัวเอง. ช่วง Walk คือช่วงของการทำงานที่มีความซับซ้อนมากขึ้นและมีการใช้งานระบบอัตโนมัติ. ช่วง Run คือช่วงที่การทำงานเป็นไปอย่างราบรื่นและมีประสิทธิภาพ.\n",
      "\n",
      "นอกจากนี้ FinOps ยังมี \"Personas\" หรือบุคคลที่เกี่ยวข้องกับการใช้งาน FinOps ซึ่งรวมถึง FinOps Practitioner, Executive, Business, Finance, และ Engineer. แต่ละบุคคลมีแรงจูงใจ, ปัญหา, ตัวชี้วัด, และสิ่งที่ได้จาก FinOps ที่แตกต่างกัน.\n",
      "\n",
      "โดยรวมแล้ว FinOps เป็นกระบวนการที่ช่วยให้บริษัทสามารถจัดการกับการใช้จ่ายใน Cloud computing ได้อย่างมีประสิทธิภาพและเป็นไปตามหลักการธุรกิจ.\n",
      "\u001b[0m"
     ]
    }
   ],
   "source": [
    "res = sub_query_engine.query('finops คืออะไร')"
   ]
  },
  {
   "cell_type": "code",
   "execution_count": 42,
   "metadata": {},
   "outputs": [
    {
     "data": {
      "text/plain": [
       "'FinOps (Cloud Financial Operations) เป็นโครงการที่ได้รับการสนับสนุนจาก The Linux Foundation เพื่อช่วยสร้างโครงสร้างพื้นฐานที่สนับสนุนการใช้งาน Cloud computing อย่างมีคุณค่า. มันถูกสร้างขึ้นหลังจากการมีอยู่ของ Cloud computing ประมาณ 10 ปี (AWS establish in 2006) และถือว่าเป็นโครงสร้างพื้นฐานที่อายุน้อยมาก (เทียบกับปี 2023).\\n\\nFinOps มีวัตถุประสงค์เพื่อช่วยให้บริษัทสามารถจัดการกับการใช้จ่ายใน Cloud computing ได้อย่างมีประสิทธิภาพ โดยการสร้างกระบวนการทำงานและรายงานผลที่มีประสิทธิภาพ. มันช่วยให้ทีมต่างๆ เช่น ทีม Engineer, ทีม Finance, และทีม Procurement สามารถทำงานร่วมกันได้อย่างมีประสิทธิภาพ.\\n\\nFinOps ยังมีแนวคิดเกี่ยวกับ \"Maturity\" ซึ่งแบ่งออกเป็น 3 ช่วง ได้แก่ Crawl, Walk, และ Run. ช่วง Crawl คือช่วงเริ่มต้นของการนำ FinOps เข้ามาประยุกต์เข้ากับบริษัทของตัวเอง. ช่วง Walk คือช่วงของการทำงานที่มีความซับซ้อนมากขึ้นและมีการใช้งานระบบอัตโนมัติ. ช่วง Run คือช่วงที่การทำงานเป็นไปอย่างราบรื่นและมีประสิทธิภาพ.\\n\\nนอกจากนี้ FinOps ยังมี \"Personas\" หรือบุคคลที่เกี่ยวข้องกับการใช้งาน FinOps ซึ่งรวมถึง FinOps Practitioner, Executive, Business, Finance, และ Engineer. แต่ละบุคคลมีแรงจูงใจ, ปัญหา, ตัวชี้วัด, และสิ่งที่ได้จาก FinOps ที่แตกต่างกัน.\\n\\nโดยรวมแล้ว FinOps เป็นกระบวนการที่ช่วยให้บริษัทสามารถจัดการกับการใช้จ่ายใน Cloud computing ได้อย่างมีประสิทธิภาพและเป็นไปตามหลักการธุรกิจ.'"
      ]
     },
     "execution_count": 42,
     "metadata": {},
     "output_type": "execute_result"
    }
   ],
   "source": [
    "res.response"
   ]
  },
  {
   "cell_type": "code",
   "execution_count": null,
   "metadata": {},
   "outputs": [],
   "source": []
  }
 ],
 "metadata": {
  "kernelspec": {
   "display_name": "Python 3",
   "language": "python",
   "name": "python3"
  },
  "language_info": {
   "codemirror_mode": {
    "name": "ipython",
    "version": 3
   },
   "file_extension": ".py",
   "mimetype": "text/x-python",
   "name": "python",
   "nbconvert_exporter": "python",
   "pygments_lexer": "ipython3",
   "version": "3.10.12"
  }
 },
 "nbformat": 4,
 "nbformat_minor": 2
}
