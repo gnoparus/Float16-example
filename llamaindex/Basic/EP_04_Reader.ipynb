{
 "cells": [
  {
   "cell_type": "markdown",
   "metadata": {},
   "source": [
    "## Reader"
   ]
  },
  {
   "cell_type": "markdown",
   "metadata": {},
   "source": [
    "### SimpleFileNodeParser"
   ]
  },
  {
   "cell_type": "code",
   "execution_count": 1,
   "metadata": {},
   "outputs": [
    {
     "name": "stderr",
     "output_type": "stream",
     "text": [
      "/home/maatick/.venv/lib/python3.10/site-packages/tqdm/auto.py:21: TqdmWarning: IProgress not found. Please update jupyter and ipywidgets. See https://ipywidgets.readthedocs.io/en/stable/user_install.html\n",
      "  from .autonotebook import tqdm as notebook_tqdm\n"
     ]
    },
    {
     "name": "stdout",
     "output_type": "stream",
     "text": [
      "0 H1 Say Hello\n",
      "1 H2 Say World\n",
      "2 H3 Say !\n",
      "\n",
      "```\n",
      "print(\"Hello World!\")\n",
      "```\n"
     ]
    }
   ],
   "source": [
    "from llama_index.core.node_parser import SimpleFileNodeParser\n",
    "from llama_index.readers.file import FlatReader\n",
    "from pathlib import Path\n",
    "\n",
    "md_docs = FlatReader().load_data(Path(\"./MockupData/data.md\"))\n",
    " \n",
    "parser = SimpleFileNodeParser()\n",
    "md_nodes = parser.get_nodes_from_documents(md_docs)\n",
    "for idx,i in enumerate(md_nodes):\n",
    "    print(idx,i.text)"
   ]
  },
  {
   "cell_type": "markdown",
   "metadata": {},
   "source": [
    "### HTMLNodeParser"
   ]
  },
  {
   "cell_type": "code",
   "execution_count": 3,
   "metadata": {},
   "outputs": [
    {
     "name": "stdout",
     "output_type": "stream",
     "text": [
      "0 Say Hello\n",
      "1 Say World\n"
     ]
    }
   ],
   "source": [
    "from llama_index.core.node_parser import HTMLNodeParser\n",
    "\n",
    "html_docs = FlatReader().load_data(Path(\"./MockupData/data.html\"))\n",
    "parser = HTMLNodeParser(tags=['h1','h2'])  # optional list of tags\n",
    "# parser = HTMLNodeParser()\n",
    "html_nodes = parser.get_nodes_from_documents(html_docs)\n",
    "\n",
    "for idx,i in enumerate(html_nodes) :\n",
    "    print(idx,i.text)"
   ]
  },
  {
   "cell_type": "markdown",
   "metadata": {},
   "source": [
    "### JSONNodeParser"
   ]
  },
  {
   "cell_type": "code",
   "execution_count": 4,
   "metadata": {},
   "outputs": [
    {
     "name": "stdout",
     "output_type": "stream",
     "text": [
      "0 Say Hello\n",
      "1 Say World\n"
     ]
    }
   ],
   "source": [
    "from llama_index.core.node_parser import JSONNodeParser\n",
    "\n",
    "json_docs = FlatReader().load_data(Path(\"./MockupData/data.json\"))\n",
    "parser = JSONNodeParser()\n",
    "json_nodes = parser.get_nodes_from_documents(json_docs)\n",
    "for idx,i in enumerate(html_nodes) :\n",
    "    print(idx,i.text)"
   ]
  },
  {
   "cell_type": "markdown",
   "metadata": {},
   "source": [
    "### MarkdownNodeParser"
   ]
  },
  {
   "cell_type": "code",
   "execution_count": 5,
   "metadata": {},
   "outputs": [
    {
     "name": "stdout",
     "output_type": "stream",
     "text": [
      "0 H1 Say Hello\n",
      "1 H2 Say World\n",
      "2 H3 Say !\n",
      "\n",
      "```\n",
      "print(\"Hello World!\")\n",
      "```\n"
     ]
    }
   ],
   "source": [
    "from llama_index.core.node_parser import MarkdownNodeParser\n",
    "\n",
    "markdown_docs = FlatReader().load_data(Path(\"./MockupData/data.md\"))\n",
    "parser = MarkdownNodeParser()\n",
    "markdown_nodes = parser.get_nodes_from_documents(markdown_docs)\n",
    "for idx,i in enumerate(markdown_nodes) :\n",
    "    print(idx,i.text)"
   ]
  },
  {
   "cell_type": "markdown",
   "metadata": {},
   "source": [
    "### DatabaseReader"
   ]
  },
  {
   "cell_type": "code",
   "execution_count": 6,
   "metadata": {},
   "outputs": [],
   "source": [
    "from llama_index.readers.database import DatabaseReader\n",
    "db = DatabaseReader(\n",
    "    scheme=\"postgresql\",  # Database Scheme\n",
    "    host=\"aws-0-ap-southeast-1.pooler.supabase.com\",  # Database Host\n",
    "    port=\"5432\",  # Database Port\n",
    "    user=\"postgres.jrvhsbhqlwynscpweows\",  # Database User\n",
    "    password=\"DSAXVG83WmJcZtw1\",  # Database Password\n",
    "    dbname=\"postgres\",  # Database Name\n",
    ")"
   ]
  },
  {
   "cell_type": "code",
   "execution_count": 7,
   "metadata": {},
   "outputs": [
    {
     "data": {
      "text/plain": [
       "[Document(id_='08d7034a-e88b-4154-a104-da822e110386', embedding=None, metadata={}, excluded_embed_metadata_keys=[], excluded_llm_metadata_keys=[], relationships={}, text='id: 1, created_at: 2024-02-21 13:02:31.445522+00:00, first_name: Bob, last_name: Malay', start_char_idx=None, end_char_idx=None, text_template='{metadata_str}\\n\\n{content}', metadata_template='{key}: {value}', metadata_seperator='\\n'),\n",
       " Document(id_='f505869a-aabd-4c4b-9231-48c7320a4774', embedding=None, metadata={}, excluded_embed_metadata_keys=[], excluded_llm_metadata_keys=[], relationships={}, text='id: 2, created_at: 2024-02-21 13:02:42.008095+00:00, first_name: Alice, last_name: Layla', start_char_idx=None, end_char_idx=None, text_template='{metadata_str}\\n\\n{content}', metadata_template='{key}: {value}', metadata_seperator='\\n'),\n",
       " Document(id_='ff47f1ce-fd5b-47f7-84b7-0f623a5a1fae', embedding=None, metadata={}, excluded_embed_metadata_keys=[], excluded_llm_metadata_keys=[], relationships={}, text='id: 3, created_at: 2024-02-21 13:03:02.936948+00:00, first_name: Casie, last_name: Lu', start_char_idx=None, end_char_idx=None, text_template='{metadata_str}\\n\\n{content}', metadata_template='{key}: {value}', metadata_seperator='\\n')]"
      ]
     },
     "execution_count": 7,
     "metadata": {},
     "output_type": "execute_result"
    }
   ],
   "source": [
    "db.load_data('SELECT * FROM person')"
   ]
  },
  {
   "cell_type": "code",
   "execution_count": null,
   "metadata": {},
   "outputs": [],
   "source": []
  }
 ],
 "metadata": {
  "kernelspec": {
   "display_name": "Python 3",
   "language": "python",
   "name": "python3"
  },
  "language_info": {
   "codemirror_mode": {
    "name": "ipython",
    "version": 3
   },
   "file_extension": ".py",
   "mimetype": "text/x-python",
   "name": "python",
   "nbconvert_exporter": "python",
   "pygments_lexer": "ipython3",
   "version": "3.10.12"
  }
 },
 "nbformat": 4,
 "nbformat_minor": 2
}
