{
 "cells": [
  {
   "cell_type": "markdown",
   "metadata": {},
   "source": [
    "## Storage"
   ]
  },
  {
   "cell_type": "code",
   "execution_count": null,
   "metadata": {},
   "outputs": [],
   "source": [
    "from llama_index.core import VectorStoreIndex\n",
    "from llama_index.readers.file import FlatReader\n",
    "from llama_index.embeddings.huggingface import HuggingFaceEmbedding\n",
    "from llama_index.core.node_parser import SentenceSplitter\n",
    "from pathlib import Path\n",
    "\n",
    "sentence_spilit = SentenceSplitter(\n",
    "    chunk_size=1024\n",
    ")\n",
    "\n",
    "embed_model = HuggingFaceEmbedding(model_name=\"intfloat/multilingual-e5-large\",device='cpu')\n",
    "md_docs = FlatReader().load_data(Path(\"./MockupData/finops.md\"))\n",
    "md_nodes = sentence_spilit.get_nodes_from_documents(md_docs)\n",
    "\n",
    "print(len(md_nodes))\n",
    "index = VectorStoreIndex(md_nodes,embed_model=embed_model)\n",
    "# Query index\n",
    "query_engine = index.as_retriever(similarity_top_k = 5)\n",
    "response = query_engine.retrieve(\"FinOps คืออะไร?\")\n",
    "print('-------------RAG-------------')\n",
    "print(len(response))"
   ]
  },
  {
   "cell_type": "code",
   "execution_count": null,
   "metadata": {},
   "outputs": [],
   "source": [
    "from llama_index.core.vector_stores import SimpleVectorStore\n",
    "from llama_index.core.storage.docstore import SimpleDocumentStore\n",
    "from llama_index.core.storage.index_store import SimpleIndexStore\n",
    "from llama_index.core import VectorStoreIndex,StorageContext\n",
    "from llama_index.readers.file import FlatReader\n",
    "from llama_index.embeddings.huggingface import HuggingFaceEmbedding\n",
    "from llama_index.core.node_parser import SentenceSplitter\n",
    "from pathlib import Path\n",
    "\n",
    "sentence_spilit = SentenceSplitter(\n",
    "    chunk_size=1024\n",
    ")\n",
    "\n",
    "storage_context = StorageContext.from_defaults(\n",
    "    vector_store=SimpleVectorStore(),\n",
    "    docstore=SimpleDocumentStore(),\n",
    "    index_store=SimpleIndexStore(),\n",
    ")\n",
    "\n",
    "embed_model = HuggingFaceEmbedding(model_name=\"intfloat/multilingual-e5-large\",device='cpu')\n",
    "md_docs = FlatReader().load_data(Path(\"./MockupData/finops.md\"))\n",
    "md_nodes = sentence_spilit.get_nodes_from_documents(md_docs)\n",
    "\n",
    "print(len(md_nodes))\n",
    "index = VectorStoreIndex(md_nodes,embed_model=embed_model,storage_context=storage_context)\n",
    "index.set_index_id(\"FinOps\")\n",
    "index.storage_context.persist(persist_dir=\"./localstore/\")\n",
    "# Query index\n",
    "query_engine = index.as_retriever(similarity_top_k = 5)\n",
    "response = query_engine.retrieve(\"FinOps คืออะไร?\")\n",
    "print('-------------RAG-------------')\n",
    "print(len(response))"
   ]
  },
  {
   "cell_type": "code",
   "execution_count": 2,
   "metadata": {},
   "outputs": [
    {
     "name": "stdout",
     "output_type": "stream",
     "text": [
      "-------------RAG-------------\n",
      "5\n"
     ]
    }
   ],
   "source": [
    "from llama_index.core import StorageContext, load_index_from_storage\n",
    "from llama_index.embeddings.huggingface import HuggingFaceEmbedding\n",
    "\n",
    "embed_model = HuggingFaceEmbedding(model_name=\"intfloat/multilingual-e5-large\",device='cpu')\n",
    "load_index = load_index_from_storage(StorageContext.from_defaults(persist_dir='./localstore/'),embed_model=embed_model)\n",
    "query_engine = load_index.as_retriever(similarity_top_k = 5)\n",
    "response = query_engine.retrieve(\"FinOps คืออะไร?\")\n",
    "print('-------------RAG-------------')\n",
    "print(len(response))"
   ]
  },
  {
   "cell_type": "code",
   "execution_count": null,
   "metadata": {},
   "outputs": [],
   "source": []
  }
 ],
 "metadata": {
  "kernelspec": {
   "display_name": "Python 3",
   "language": "python",
   "name": "python3"
  },
  "language_info": {
   "codemirror_mode": {
    "name": "ipython",
    "version": 3
   },
   "file_extension": ".py",
   "mimetype": "text/x-python",
   "name": "python",
   "nbconvert_exporter": "python",
   "pygments_lexer": "ipython3",
   "version": "3.10.12"
  }
 },
 "nbformat": 4,
 "nbformat_minor": 2
}
