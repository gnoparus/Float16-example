{
 "cells": [
  {
   "cell_type": "markdown",
   "metadata": {},
   "source": [
    "# Setup"
   ]
  },
  {
   "cell_type": "code",
   "execution_count": null,
   "metadata": {
    "vscode": {
     "languageId": "plaintext"
    }
   },
   "outputs": [],
   "source": [
    "FLOAT16_API_KEY = 'float16-xxxxxxxxxxxxxxxxxxxxxxxxxxxxxxxxxxxxxxxxxxxxx'\n",
    "FLOAT16_CUSTOM_URL = 'https://api.float16.cloud/v1/chat/completions'"
   ]
  },
  {
   "cell_type": "code",
   "execution_count": null,
   "metadata": {
    "vscode": {
     "languageId": "plaintext"
    }
   },
   "outputs": [],
   "source": [
    "import requests\n",
    "import json\n",
    "import os\n",
    "\n",
    "\n",
    "def do_request(url, data):\n",
    "    headers = {'content-type': 'application/json', 'Authorization': 'Bearer '+FLOAT16_API_KEY}\n",
    "    response = requests.post(url, headers=headers, data=json.dumps(data))\n",
    "    response_text = response.json()\n",
    "    return response_text\n",
    "\n",
    "def init_DDL(prompt):\n",
    "    output = []\n",
    "    output.append({\n",
    "        'role' : 'system',\n",
    "        'content' : prompt\n",
    "    })\n",
    "    return output\n",
    "\n",
    "def add_question(data,question) :\n",
    "    output = []\n",
    "    output = data\n",
    "    output.append({\n",
    "        'role' : 'user',\n",
    "        'content' : question\n",
    "    })\n",
    "    return output"
   ]
  },
  {
   "cell_type": "markdown",
   "metadata": {},
   "source": [
    "# Add question and run"
   ]
  },
  {
   "cell_type": "code",
   "execution_count": null,
   "metadata": {
    "vscode": {
     "languageId": "plaintext"
    }
   },
   "outputs": [],
   "source": [
    "message = init_DDL('''CREATE TABLE products (\n",
    "  product_id INTEGER PRIMARY KEY, -- Unique ID for each product\n",
    "  name VARCHAR(50), -- Name of the product\n",
    "  price DECIMAL(10,2), -- Price of each unit of the product\n",
    "  quantity INTEGER  -- Current quantity in stock\n",
    ");\n",
    "\n",
    "CREATE TABLE customers (\n",
    "  customer_id INTEGER PRIMARY KEY, -- Unique ID for each customer\n",
    "  name VARCHAR(50), -- Name of the customer\n",
    "  address VARCHAR(100) -- Mailing address of the customer\n",
    ");\n",
    "\n",
    "CREATE TABLE salespeople (\n",
    "  salesperson_id INTEGER PRIMARY KEY, -- Unique ID for each salesperson\n",
    "  name VARCHAR(50), -- Name of the salesperson\n",
    "  region VARCHAR(50) -- Geographic sales region\n",
    ");\n",
    "\n",
    "CREATE TABLE sales (\n",
    "  sale_id INTEGER PRIMARY KEY, -- Unique ID for each sale\n",
    "  product_id INTEGER, -- ID of product sold\n",
    "  customer_id INTEGER,  -- ID of customer who made purchase\n",
    "  salesperson_id INTEGER, -- ID of salesperson who made the sale\n",
    "  sale_date DATE, -- Date the sale occurred\n",
    "  quantity INTEGER -- Quantity of product sold\n",
    ");\n",
    "\n",
    "CREATE TABLE product_suppliers (\n",
    "  supplier_id INTEGER PRIMARY KEY, -- Unique ID for each supplier\n",
    "  product_id INTEGER, -- Product ID supplied\n",
    "  supply_price DECIMAL(10,2) -- Unit price charged by supplier\n",
    ");\n",
    "\n",
    "-- sales.product_id can be joined with products.product_id\n",
    "-- sales.customer_id can be joined with customers.customer_id\n",
    "-- sales.salesperson_id can be joined with salespeople.salesperson_id\n",
    "-- product_suppliers.product_id can be joined with products.product_id''')\n",
    "\n",
    "message_with_question = add_question(message,\"\"\" What are our top 3 products by revenue in the New York region? \"\"\")\n",
    "\n",
    "data = {\n",
    "\"messages\" : message_with_question,\n",
    "\"model\" : 'SQLCoder-7b-v2',\n",
    "\"max_tokens\" : 512, #Max tokens is 512\n",
    "\"temperature\" : 0.1\n",
    "}\n",
    "res = do_request(FLOAT16_CUSTOM_URL, data)\n",
    "print(res['choices'][0]['message']['content'])"
   ]
  }
 ],
 "metadata": {
  "language_info": {
   "name": "python"
  }
 },
 "nbformat": 4,
 "nbformat_minor": 2
}
